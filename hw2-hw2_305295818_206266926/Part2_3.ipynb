{
 "cells": [
  {
   "cell_type": "code",
   "execution_count": 1,
   "id": "317ed385-26c4-4f6c-adba-4425d605ebe4",
   "metadata": {},
   "outputs": [],
   "source": [
    "%load_ext autoreload\n",
    "%autoreload 2\n",
    "from manual_log_reg import ManualLogisticRegression\n",
    "import pandas as pd\n",
    "import numpy as np\n",
    "from sklearn.model_selection import train_test_split\n",
    "from sklearn.preprocessing import StandardScaler\n",
    "from sklearn.metrics import roc_auc_score"
   ]
  },
  {
   "cell_type": "code",
   "execution_count": 2,
   "id": "08388093-a65b-4d49-a555-632a0c6d272c",
   "metadata": {},
   "outputs": [
    {
     "data": {
      "text/html": [
       "<div>\n",
       "<style scoped>\n",
       "    .dataframe tbody tr th:only-of-type {\n",
       "        vertical-align: middle;\n",
       "    }\n",
       "\n",
       "    .dataframe tbody tr th {\n",
       "        vertical-align: top;\n",
       "    }\n",
       "\n",
       "    .dataframe thead th {\n",
       "        text-align: right;\n",
       "    }\n",
       "</style>\n",
       "<table border=\"1\" class=\"dataframe\">\n",
       "  <thead>\n",
       "    <tr style=\"text-align: right;\">\n",
       "      <th></th>\n",
       "      <th>Age</th>\n",
       "      <th>Systolic_BP</th>\n",
       "      <th>Diastolic_BP</th>\n",
       "      <th>Cholesterol</th>\n",
       "    </tr>\n",
       "  </thead>\n",
       "  <tbody>\n",
       "    <tr>\n",
       "      <th>0</th>\n",
       "      <td>77.196340</td>\n",
       "      <td>85.288742</td>\n",
       "      <td>80.021878</td>\n",
       "      <td>79.957109</td>\n",
       "    </tr>\n",
       "    <tr>\n",
       "      <th>1</th>\n",
       "      <td>63.529850</td>\n",
       "      <td>99.379736</td>\n",
       "      <td>84.852361</td>\n",
       "      <td>110.382411</td>\n",
       "    </tr>\n",
       "    <tr>\n",
       "      <th>2</th>\n",
       "      <td>69.003986</td>\n",
       "      <td>111.349455</td>\n",
       "      <td>109.850616</td>\n",
       "      <td>100.828246</td>\n",
       "    </tr>\n",
       "    <tr>\n",
       "      <th>3</th>\n",
       "      <td>82.638210</td>\n",
       "      <td>95.056128</td>\n",
       "      <td>79.666851</td>\n",
       "      <td>87.066303</td>\n",
       "    </tr>\n",
       "    <tr>\n",
       "      <th>4</th>\n",
       "      <td>78.346286</td>\n",
       "      <td>109.154591</td>\n",
       "      <td>90.713220</td>\n",
       "      <td>92.511770</td>\n",
       "    </tr>\n",
       "  </tbody>\n",
       "</table>\n",
       "</div>"
      ],
      "text/plain": [
       "         Age  Systolic_BP  Diastolic_BP  Cholesterol\n",
       "0  77.196340    85.288742     80.021878    79.957109\n",
       "1  63.529850    99.379736     84.852361   110.382411\n",
       "2  69.003986   111.349455    109.850616   100.828246\n",
       "3  82.638210    95.056128     79.666851    87.066303\n",
       "4  78.346286   109.154591     90.713220    92.511770"
      ]
     },
     "execution_count": 2,
     "metadata": {},
     "output_type": "execute_result"
    }
   ],
   "source": [
    "X = pd.read_csv('X_data.csv')\n",
    "X.drop(columns=X.columns[0], axis=1, inplace=True)\n",
    "X.head()"
   ]
  },
  {
   "cell_type": "code",
   "execution_count": 3,
   "id": "50010f83-4787-400c-87dc-a14c40f53b40",
   "metadata": {},
   "outputs": [
    {
     "data": {
      "text/html": [
       "<div>\n",
       "<style scoped>\n",
       "    .dataframe tbody tr th:only-of-type {\n",
       "        vertical-align: middle;\n",
       "    }\n",
       "\n",
       "    .dataframe tbody tr th {\n",
       "        vertical-align: top;\n",
       "    }\n",
       "\n",
       "    .dataframe thead th {\n",
       "        text-align: right;\n",
       "    }\n",
       "</style>\n",
       "<table border=\"1\" class=\"dataframe\">\n",
       "  <thead>\n",
       "    <tr style=\"text-align: right;\">\n",
       "      <th></th>\n",
       "      <th>y</th>\n",
       "    </tr>\n",
       "  </thead>\n",
       "  <tbody>\n",
       "    <tr>\n",
       "      <th>0</th>\n",
       "      <td>1.0</td>\n",
       "    </tr>\n",
       "    <tr>\n",
       "      <th>1</th>\n",
       "      <td>1.0</td>\n",
       "    </tr>\n",
       "    <tr>\n",
       "      <th>2</th>\n",
       "      <td>1.0</td>\n",
       "    </tr>\n",
       "    <tr>\n",
       "      <th>3</th>\n",
       "      <td>1.0</td>\n",
       "    </tr>\n",
       "    <tr>\n",
       "      <th>4</th>\n",
       "      <td>1.0</td>\n",
       "    </tr>\n",
       "  </tbody>\n",
       "</table>\n",
       "</div>"
      ],
      "text/plain": [
       "     y\n",
       "0  1.0\n",
       "1  1.0\n",
       "2  1.0\n",
       "3  1.0\n",
       "4  1.0"
      ]
     },
     "execution_count": 3,
     "metadata": {},
     "output_type": "execute_result"
    }
   ],
   "source": [
    "y = pd.read_csv('y_data.csv')  # read and convert to numpy\n",
    "y.drop(columns=y.columns[0], axis=1, inplace=True)\n",
    "y.head()"
   ]
  },
  {
   "cell_type": "code",
   "execution_count": 4,
   "id": "519dd691-2aae-4c9b-b04d-beca8df2e48e",
   "metadata": {},
   "outputs": [],
   "source": [
    "X = X.values  # convert to numpy\n",
    "y = y.values.astype(int).flatten()  # convert to numpy integers and flatten\n",
    "X = np.concatenate((np.ones((len(y), 1)), X), axis=1) # add bias term"
   ]
  },
  {
   "cell_type": "code",
   "execution_count": 85,
   "id": "df919648-712c-4f56-af15-377235597f25",
   "metadata": {},
   "outputs": [],
   "source": [
    "X_train, X_test, y_train, y_test = train_test_split(X, y, test_size=0.2, random_state=336546)"
   ]
  },
  {
   "cell_type": "markdown",
   "id": "f773eb0f-870d-42c3-8b05-4367853b4191",
   "metadata": {},
   "source": [
    "Implement the functions in manual_log_reg.py and train *log_reg* below. Use the *plot* flag in order to show reasonable learning (decrease of the training loss as a function of the iterations). Don't forget to make minor preprocessing so that gradient descent will be stable."
   ]
  },
  {
   "cell_type": "code",
   "execution_count": 89,
   "id": "d62639cc-dbfb-4b44-9617-bccc47169911",
   "metadata": {},
   "outputs": [],
   "source": [
    "log_reg = ManualLogisticRegression()"
   ]
  },
  {
   "cell_type": "code",
   "execution_count": 90,
   "id": "4a7f730a-7c31-4c2d-b37c-3f4e4f839d68",
   "metadata": {},
   "outputs": [
    {
     "data": {
      "image/png": "[encoded data removed]",
      "text/plain": [
       "<Figure size 640x480 with 1 Axes>"
      ]
     },
     "metadata": {},
     "output_type": "display_data"
    }
   ],
   "source": [
    "# ------------------------ IMPLEMENT YOUR CODE HERE: ----------------------------------\n",
    "from sklearn.preprocessing import RobustScaler\n",
    "from sklearn.impute import KNNImputer\n",
    "\n",
    "for i in range(1,5): # Outliers removal\n",
    "    Q1 = np.percentile(X_train[:,i],25)\n",
    "    Q3 = np.percentile(X_train[:,i],75)\n",
    "    IQR = Q3 - Q1\n",
    "    topTh = Q3 + 1.5 * IQR\n",
    "    bottomTh = Q1 - 1.5 * IQR\n",
    "    outliers = (X_train[:,i] > topTh) | (X_train[:,i] < bottomTh)\n",
    "    X_train[:,i][outliers] = np.full((outliers.sum()), np.nan)\n",
    "    outliers = (X_test[:,i] > topTh) | (X_test[:,i] < bottomTh)\n",
    "    X_test[:,i][outliers] = np.full((outliers.sum()), np.nan)\n",
    "\n",
    "imputer = KNNImputer(n_neighbors=5) # Impute nans\n",
    "X_train[:] = imputer.fit_transform(X_train)\n",
    "X_test[:] = imputer.transform(X_test)\n",
    "\n",
    "scaler = RobustScaler() # Noramlize \n",
    "X_train_std = scaler.fit_transform(X_train)\n",
    "X_test_std = scaler.transform(X_test)\n",
    "\n",
    "log_reg.fit(X_train_std,y_train,eta=0.005,plot=True)\n",
    "# --------------------------------------------------------------------------------------"
   ]
  },
  {
   "cell_type": "markdown",
   "id": "49abe12e-3663-4959-a7b0-91c0809bc59a",
   "metadata": {},
   "source": [
    "Sort the learned weights (excluding the bias term). Which of the features is the most important one?"
   ]
  },
  {
   "cell_type": "code",
   "execution_count": 93,
   "id": "2572b5da-2042-449b-ad3e-ad66dce9d464",
   "metadata": {},
   "outputs": [
    {
     "name": "stdout",
     "output_type": "stream",
     "text": [
      "Age weight = 1.195\n",
      "Systolic_BP weight = 0.849\n",
      "Cholesterol weight = 0.117\n",
      "Diastolic_BP weight = 0.576\n"
     ]
    }
   ],
   "source": [
    "# ------------------------ IMPLEMENT YOUR CODE HERE: ----------------------------------\n",
    "features = ['Age','Systolic_BP','Diastolic_BP','Cholesterol']\n",
    "weights = log_reg.w[1:]\n",
    "sorted = weights.argsort()[::-1]\n",
    "features_sorted = [features[i] for i in sorted]\n",
    "for (feature,weight) in zip(features_sorted,weights):\n",
    "    print(f'{feature} weight = {weight:.3f}')\n",
    "# --------------------------------------------------------------------------------------"
   ]
  },
  {
   "cell_type": "markdown",
   "id": "310bc770-5d4b-4c26-a0e8-1b128a789ceb",
   "metadata": {},
   "source": [
    "Report the performance on the \"correct dataset\" using *conf_matrix* function. The required metrics are: TN, FP, FN, TP, Se, Sp, PPV, NPV, Acc, F1 and AUC. You may use functions seen in the tutorial but notice that one of the metrics can and should be called from *log_reg* itself."
   ]
  },
  {
   "cell_type": "code",
   "execution_count": 96,
   "id": "7a8dc538-b49b-4f46-a119-73a4d8970ef0",
   "metadata": {},
   "outputs": [
    {
     "name": "stdout",
     "output_type": "stream",
     "text": [
      "TN = 433\n",
      "FP = 151\n",
      "FN = 164\n",
      "TP = 452\n",
      "Sensitivity = 0.734\n",
      "Specificity = 0.741\n",
      "PPV = 0.750\n",
      "NPV = 0.725\n",
      "Accuracy = 0.738\n",
      "F1 = 0.742\n",
      "AUROC = 0.807\n"
     ]
    }
   ],
   "source": [
    "# ------------------------ IMPLEMENT YOUR CODE HERE: ----------------------------------\n",
    "from sklearn.metrics import roc_auc_score\n",
    "conf = log_reg.conf_matrix(X_test_std,y_test)\n",
    "TN = conf[0,0]\n",
    "FP = conf[0,1]\n",
    "FN = conf[1,0]\n",
    "TP = conf[1,1]\n",
    "Se = TP/(TP+FN)\n",
    "Sp = TN/(TN+FP)\n",
    "PPV = TP/(TP+FP)\n",
    "NPV = TN/(TN+FN)\n",
    "Acc = log_reg.score(X_test_std,y_test)\n",
    "F1 = (2*Se*PPV)/(Se+PPV)\n",
    "y_prob = log_reg.predict_proba(X_test_std)\n",
    "AUROC = roc_auc_score(y_test, y_prob)\n",
    "\n",
    "print(f'TN = {TN:3.0f}')\n",
    "print(f'FP = {FP:3.0f}')\n",
    "print(f'FN = {FN:3.0f}')\n",
    "print(f'TP = {TP:3.0f}')\n",
    "print(f'Sensitivity = {Se:.3f}')\n",
    "print(f'Specificity = {Sp:.3f}')\n",
    "print(f'PPV = {PPV:.3f}')\n",
    "print(f'NPV = {NPV:.3f}')\n",
    "print(f'Accuracy = {Acc:.3f}')\n",
    "print(f'F1 = {F1:.3f}')\n",
    "print(f'AUROC = {AUROC:.3f}')\n",
    "# --------------------------------------------------------------------------------------"
   ]
  },
  {
   "cell_type": "code",
   "execution_count": 95,
   "id": "94b2a79a",
   "metadata": {},
   "outputs": [
    {
     "data": {
      "text/plain": [
       "<sklearn.metrics._plot.confusion_matrix.ConfusionMatrixDisplay at 0x230aa3091c0>"
      ]
     },
     "execution_count": 95,
     "metadata": {},
     "output_type": "execute_result"
    },
    {
     "data": {
      "image/png": "[encoded data removed]",
      "text/plain": [
       "<Figure size 640x480 with 2 Axes>"
      ]
     },
     "metadata": {},
     "output_type": "display_data"
    }
   ],
   "source": [
    "from sklearn.metrics import ConfusionMatrixDisplay\n",
    "import matplotlib.pyplot as plt\n",
    "ConfusionMatrixDisplay.from_predictions(y_test,log_reg.predict(X_test_std),cmap=plt.cm.Blues)"
   ]
  }
 ],
 "metadata": {
  "kernelspec": {
   "display_name": "Python 3 (ipykernel)",
   "language": "python",
   "name": "python3"
  },
  "language_info": {
   "codemirror_mode": {
    "name": "ipython",
    "version": 3
   },
   "file_extension": ".py",
   "mimetype": "text/x-python",
   "name": "python",
   "nbconvert_exporter": "python",
   "pygments_lexer": "ipython3",
   "version": "3.9.18"
  }
 },
 "nbformat": 4,
 "nbformat_minor": 5
}
